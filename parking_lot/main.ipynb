{
 "cells": [
  {
   "cell_type": "code",
   "execution_count": 5,
   "id": "2a86c3c4",
   "metadata": {
    "scrolled": true
   },
   "outputs": [
    {
     "ename": "ModuleNotFoundError",
     "evalue": "No module named 'coordinates_generator'",
     "output_type": "error",
     "traceback": [
      "\u001b[1;31m---------------------------------------------------------------------------\u001b[0m",
      "\u001b[1;31mModuleNotFoundError\u001b[0m                       Traceback (most recent call last)",
      "Cell \u001b[1;32mIn[5], line 3\u001b[0m\n\u001b[0;32m      1\u001b[0m \u001b[38;5;28;01mimport\u001b[39;00m \u001b[38;5;21;01margparse\u001b[39;00m\n\u001b[0;32m      2\u001b[0m \u001b[38;5;28;01mimport\u001b[39;00m \u001b[38;5;21;01myaml\u001b[39;00m\n\u001b[1;32m----> 3\u001b[0m \u001b[38;5;28;01mimport\u001b[39;00m \u001b[38;5;21;01mcoordinates_generator\u001b[39;00m\n\u001b[0;32m      4\u001b[0m \u001b[38;5;28;01mfrom\u001b[39;00m \u001b[38;5;21;01mcoordinates_generator\u001b[39;00m \u001b[38;5;28;01mimport\u001b[39;00m CoordinatesGenerator\n\u001b[0;32m      5\u001b[0m \u001b[38;5;28;01mfrom\u001b[39;00m \u001b[38;5;21;01mmotion_detector\u001b[39;00m \u001b[38;5;28;01mimport\u001b[39;00m MotionDetector\n",
      "\u001b[1;31mModuleNotFoundError\u001b[0m: No module named 'coordinates_generator'"
     ]
    }
   ],
   "source": [
    "import argparse\n",
    "import yaml\n",
    "import coordinates_generator\n",
    "from coordinates_generator import CoordinatesGenerator\n",
    "from motion_detector import MotionDetector\n",
    "from colors import *\n",
    "import logging\n",
    "\n",
    "\n",
    "def main():\n",
    "    logging.basicConfig(level=logging.INFO)\n",
    "\n",
    "    args = parse_args()\n",
    "\n",
    "    image_file = args.image_file\n",
    "    data_file = args.data_file\n",
    "    start_frame = args.start_frame\n",
    "\n",
    "    if image_file is not None:\n",
    "        with open(data_file, \"w+\") as points:\n",
    "            generator = CoordinatesGenerator(image_file, points, COLOR_RED)\n",
    "            generator.generate()\n",
    "\n",
    "    with open(data_file, \"r\") as data:\n",
    "        points = yaml.load(data)\n",
    "        detector = MotionDetector(args.video_file, points, int(start_frame))\n",
    "        detector.detect_motion()\n",
    "\n",
    "\n",
    "def parse_args():\n",
    "    parser = argparse.ArgumentParser(description='Generates Coordinates File')\n",
    "\n",
    "    parser.add_argument(\"--image\",\n",
    "                        dest=\"image_file\",\n",
    "                        required=False,\n",
    "                        help=\"Image file to generate coordinates on\")\n",
    "\n",
    "    parser.add_argument(\"--video\",\n",
    "                        dest=\"video_file\",\n",
    "                        required=True,\n",
    "                        help=\"Video file to detect motion on\")\n",
    "\n",
    "    parser.add_argument(\"--data\",\n",
    "                        dest=\"data_file\",\n",
    "                        required=True,\n",
    "                        help=\"Data file to be used with OpenCV\")\n",
    "\n",
    "    parser.add_argument(\"--start-frame\",\n",
    "                        dest=\"start_frame\",\n",
    "                        required=False,\n",
    "                        default=1,\n",
    "                        help=\"Starting frame on the video\")\n",
    "\n",
    "    return parser.parse_args()\n",
    "\n",
    "\n",
    "if __name__ == '__main__':\n",
    "    main()\n"
   ]
  },
  {
   "cell_type": "code",
   "execution_count": null,
   "id": "66e93186",
   "metadata": {},
   "outputs": [],
   "source": []
  }
 ],
 "metadata": {
  "kernelspec": {
   "display_name": "Python 3 (ipykernel)",
   "language": "python",
   "name": "python3"
  },
  "language_info": {
   "codemirror_mode": {
    "name": "ipython",
    "version": 3
   },
   "file_extension": ".py",
   "mimetype": "text/x-python",
   "name": "python",
   "nbconvert_exporter": "python",
   "pygments_lexer": "ipython3",
   "version": "3.11.5"
  }
 },
 "nbformat": 4,
 "nbformat_minor": 5
}
