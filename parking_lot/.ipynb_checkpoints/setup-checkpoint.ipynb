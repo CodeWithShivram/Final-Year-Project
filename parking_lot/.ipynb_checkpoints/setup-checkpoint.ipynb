{
 "cells": [
  {
   "cell_type": "code",
   "execution_count": null,
   "id": "dbd8f86d",
   "metadata": {},
   "outputs": [],
   "source": [
    "try:\n",
    "    from setuptools import setup\n",
    "except ImportError:\n",
    "    from distutils.core import setup\n",
    "\n",
    "config = {\n",
    "    \"description\": \"Parking Lot Space Detector\",\n",
    "    \"author\": \"Olga Rocheeva\",\n",
    "    \"url\": \"https://github.com/olgarose/ParkingLot\",\n",
    "    \"download_url\": \"https://github.com/olgarose/ParkingLot/archive/master.zip\",\n",
    "    \"version\": \"0.1\",\n",
    "    \"install_requires\": [\"cv2\", \"numpy\", \"yml\"],\n",
    "    \"packages\": [\"parking_lot\"],\n",
    "    \"scripts\": [],\n",
    "    \"name\": \"ParkingLot\"\n",
    "}\n",
    "\n",
    "setup(**config)\n"
   ]
  }
 ],
 "metadata": {
  "kernelspec": {
   "display_name": "Python 3 (ipykernel)",
   "language": "python",
   "name": "python3"
  },
  "language_info": {
   "codemirror_mode": {
    "name": "ipython",
    "version": 3
   },
   "file_extension": ".py",
   "mimetype": "text/x-python",
   "name": "python",
   "nbconvert_exporter": "python",
   "pygments_lexer": "ipython3",
   "version": "3.11.5"
  }
 },
 "nbformat": 4,
 "nbformat_minor": 5
}
