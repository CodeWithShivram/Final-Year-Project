{
 "cells": [
  {
   "cell_type": "code",
   "execution_count": null,
   "id": "b7d289a5",
   "metadata": {},
   "outputs": [],
   "source": [
    "import cv2 as open_cv\n",
    "from colors import COLOR_RED\n",
    "\n",
    "\n",
    "def draw_contours(image,\n",
    "                  coordinates,\n",
    "                  label,\n",
    "                  font_color,\n",
    "                  border_color=COLOR_RED,\n",
    "                  line_thickness=1,\n",
    "                  font=open_cv.FONT_HERSHEY_SIMPLEX,\n",
    "                  font_scale=0.5):\n",
    "    open_cv.drawContours(image,\n",
    "                         [coordinates],\n",
    "                         contourIdx=-1,\n",
    "                         color=border_color,\n",
    "                         thickness=2,\n",
    "                         lineType=open_cv.LINE_8)\n",
    "    moments = open_cv.moments(coordinates)\n",
    "\n",
    "    center = (int(moments[\"m10\"] / moments[\"m00\"]) - 3,\n",
    "              int(moments[\"m01\"] / moments[\"m00\"]) + 3)\n",
    "\n",
    "    open_cv.putText(image,\n",
    "                    label,\n",
    "                    center,\n",
    "                    font,\n",
    "                    font_scale,\n",
    "                    font_color,\n",
    "                    line_thickness,\n",
    "                    open_cv.LINE_AA)\n"
   ]
  }
 ],
 "metadata": {
  "kernelspec": {
   "display_name": "Python 3 (ipykernel)",
   "language": "python",
   "name": "python3"
  },
  "language_info": {
   "codemirror_mode": {
    "name": "ipython",
    "version": 3
   },
   "file_extension": ".py",
   "mimetype": "text/x-python",
   "name": "python",
   "nbconvert_exporter": "python",
   "pygments_lexer": "ipython3",
   "version": "3.11.5"
  }
 },
 "nbformat": 4,
 "nbformat_minor": 5
}
